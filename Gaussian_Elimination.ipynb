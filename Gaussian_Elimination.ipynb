{
 "cells": [
  {
   "cell_type": "markdown",
   "metadata": {},
   "source": [
    "# Gaussian Elimination"
   ]
  },
  {
   "cell_type": "markdown",
   "metadata": {},
   "source": [
    "## Function Definition"
   ]
  },
  {
   "cell_type": "markdown",
   "metadata": {},
   "source": [
    "Running the following cell defines a function\n",
    "\n",
    "*gauss_elim()*\n",
    "\n",
    "which may be applied to solve a linear system of equations\n",
    "\n",
    "$Ax=b$\n",
    "\n",
    "for the vector $x$ of unknowns by means of Gaussian elimination with back substitution."
   ]
  },
  {
   "cell_type": "code",
   "execution_count": 1,
   "metadata": {},
   "outputs": [],
   "source": [
    "function x = gauss_elim(A,b)\n",
    " \n",
    " % This function naively implements Gaussian elimination with back substitution\n",
    " % to solve a linear system of equations Ax=b for the vector x of unknowns.\n",
    " % The inputs are the matrix A of coefficients and the vector b.\n",
    " % The function returns the solution x.\n",
    " \n",
    " % Reshape b to a column vector\n",
    " b = reshape(b,length(b),1);\n",
    " \n",
    " % Initialize solution x with zeros\n",
    " x = zeros(length(b),1);\n",
    " \n",
    " % Create augmented matrix A|b\n",
    " Ab = [A,b];\n",
    " \n",
    " %% FORWARD ELIMINATION %%\n",
    " \n",
    " for ii = 1:(length(b)-1)                                % For each row 'ii' (except the last row)\n",
    "  for jj = (ii+1):length(b)                              % take each row that follows it\n",
    "   Ab(jj,:) = Ab(jj,:) - Ab(jj,ii)/Ab(ii,ii) * Ab(ii,:); % and subtract the appropriate multiple of row 'ii'\n",
    "  end\n",
    " end \n",
    " \n",
    " %% BACKWARD SUBSTITUTION %%\n",
    " \n",
    " % The final row (equation) has only one unknown and is solved by division:\n",
    " x(end) = Ab(end,end)/Ab(end,end-1);\n",
    " \n",
    " for ii = (length(b)-1):-1:1 % For each remaining row, from last to first,\n",
    "  x(ii) = ...                % Substitute in the known values of the solution 'x' and solve that row\n",
    "  ( Ab(ii,end) - dot(Ab(ii,ii+1:end-1),x(ii+1:end)) ) / Ab(ii,ii);\n",
    " end\n",
    "\n",
    "end"
   ]
  },
  {
   "cell_type": "markdown",
   "metadata": {},
   "source": [
    "## Demonstration of Function Use"
   ]
  },
  {
   "cell_type": "markdown",
   "metadata": {},
   "source": [
    "The function defined above is applied to solve the toy system of equations $Ax=b$ where\n",
    "\n",
    "$A= \\begin{bmatrix}\n",
    "  1 & 2 & 3 \\\\\n",
    "  2 & 3 & 1 \\\\\n",
    "  3 & 1 & 2\n",
    " \\end{bmatrix}$\n",
    " \n",
    "$x= \\begin{bmatrix}\n",
    "  x_{1} \\\\\n",
    "  x_{2} \\\\\n",
    "  x_{3}\n",
    " \\end{bmatrix}$\n",
    "\n",
    "$b= \\begin{bmatrix}\n",
    "  14 \\\\\n",
    "  11 \\\\\n",
    "  11\n",
    " \\end{bmatrix}\n",
    "$"
   ]
  },
  {
   "cell_type": "code",
   "execution_count": 2,
   "metadata": {},
   "outputs": [
    {
     "name": "stdout",
     "output_type": "stream",
     "text": [
      "*********\n",
      "Solution: \n",
      "x = \n",
      "1.000000\n",
      "2.000000\n",
      "3.000000\n",
      "*********\n"
     ]
    }
   ],
   "source": [
    "% Defining matrix A of coefficients\n",
    "A = [1 2 3; ...\n",
    "     2 3 1; ...\n",
    "     3 1 2];\n",
    "\n",
    "% Defining vector b\n",
    "b = [14; ...\n",
    "     11; ...\n",
    "     11];\n",
    "\n",
    "% Applying function gauss_elim to find solution x\n",
    "x = gauss_elim(A,b);\n",
    "\n",
    "% Printing solution x\n",
    "fprintf('*********\\n');\n",
    "fprintf('Solution: \\n')\n",
    "fprintf('x = \\n');\n",
    "fprintf('%f\\n',x);\n",
    "fprintf('*********\\n');"
   ]
  },
  {
   "cell_type": "markdown",
   "metadata": {},
   "source": [
    "As shown, the solution was found to be\n",
    "\n",
    "$\n",
    " \\begin{bmatrix}\n",
    "  x_{1} \\\\\n",
    "  x_{2} \\\\\n",
    "  x_{3}\n",
    " \\end{bmatrix}\n",
    " {\\approx}\n",
    " \\begin{bmatrix}\n",
    "  1 \\\\\n",
    "  2 \\\\\n",
    "  3\n",
    " \\end{bmatrix}\n",
    " $\n",
    " \n",
    " which may be verified by substitution."
   ]
  }
 ],
 "metadata": {
  "kernelspec": {
   "display_name": "Octave",
   "language": "octave",
   "name": "octave"
  },
  "language_info": {
   "file_extension": ".m",
   "help_links": [
    {
     "text": "GNU Octave",
     "url": "https://www.gnu.org/software/octave/support.html"
    },
    {
     "text": "Octave Kernel",
     "url": "https://github.com/Calysto/octave_kernel"
    },
    {
     "text": "MetaKernel Magics",
     "url": "https://metakernel.readthedocs.io/en/latest/source/README.html"
    }
   ],
   "mimetype": "text/x-octave",
   "name": "octave",
   "version": "5.2.0"
  }
 },
 "nbformat": 4,
 "nbformat_minor": 4
}
