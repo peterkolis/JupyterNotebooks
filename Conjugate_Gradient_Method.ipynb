{
 "cells": [
  {
   "cell_type": "markdown",
   "metadata": {},
   "source": [
    "# Conjugate Gradient Method"
   ]
  },
  {
   "cell_type": "markdown",
   "metadata": {},
   "source": [
    "## Function Definition"
   ]
  },
  {
   "cell_type": "markdown",
   "metadata": {},
   "source": [
    "Running the following cell defines a function\n",
    "\n",
    "*conj_grad()*\n",
    "\n",
    "which may be applied to iteratively solve a linear system of equations\n",
    "\n",
    "$Ax=b$\n",
    "\n",
    "for the vector $x$ of unknowns by means of the conjugate gradient method. The matrix $A$ of coefficients is required to be symmetric and positive-definite."
   ]
  },
  {
   "cell_type": "code",
   "execution_count": 9,
   "metadata": {},
   "outputs": [],
   "source": [
    "function x = conj_grad(A,b,tol,maxiter,xo)\n",
    " \n",
    " % This function implements the conjugate gradient method as described in\n",
    " % Brian Bradie's \"A Friendly Introduction to Numerical Analysis\"\n",
    " % to iteratively solve a linear system of equations Ax=b for the vector x of unknowns.\n",
    " % The inputs are the matrix A of coefficients, the vector b, an initial solution\n",
    " % estimate xo, a maximum number of iterations maxiter, and a tolerance tol.\n",
    " % The function returns the solution x.\n",
    "  \n",
    " % Reshape b and xo to column vectors\n",
    " b  = reshape(b, length(b), 1);\n",
    " xo = reshape(xo,length(xo),1);\n",
    " \n",
    " % Check that A is symmetric:\n",
    " \n",
    " if (A != A')                                        % If A is not equal to its transpose,\n",
    "  x = NaN(length(b),1);                              % Set solution to NaN vector\n",
    "  fprintf('A is not symmetric positive-definite\\n'); % print an error message\n",
    "  return                                             % and exit the function\n",
    " end\n",
    " \n",
    " % Check that A is symmetric positive-definite:\n",
    " % \"A symmetric matrix is positive-definite if and only if each of\n",
    " % its leading principal submatrices has positive determinant.\"\n",
    " \n",
    " for ii = 1:length(b)                                 % For each leading principal submatrix,\n",
    "  if det( A(1:ii,1:ii) )<=0                           % if the determinant is not positive,\n",
    "   x = NaN(length(b),1);                              % Set solution to NaN vector\n",
    "   fprintf('A is not symmetric positive-definite\\n'); % print an error message\n",
    "   return                                             % and exit the function\n",
    "  end\n",
    " end\n",
    " \n",
    " \n",
    " X = xo;                           % Initialize first column of solution array X\n",
    " r(:,1) = A*xo-b;                  % Initialize residual r\n",
    " d(:,1) = -r(:,1);                 % Initialize search direction d as d=-r\n",
    " delta(1) = dot( r(:,1), r(:,1) ); % Initialize magnitude delta of residual\n",
    " \n",
    " for m = 1:maxiter                                % For each iteration,\n",
    "  \n",
    "  lambda(m) = delta(m) / dot( d(:,m), A*d(:,m) ); % Set step size lambda\n",
    "  X(:,m+1) = X(:,m) + lambda(m)*d(:,m);           % Calculate next approximate solution\n",
    "  r(:,m+1) = r(:,m) + lambda(m)*(A*d(:,m));       % Calculate next residual\n",
    "  delta(m+1) = dot( r(:,m+1), r(:,m+1) );         % Calculate magnitude of new residual\n",
    "  \n",
    "  % Stopping condition - Tolerance: Stop if sqrt( |residual| ) < tol\n",
    "  \n",
    "  if ( sqrt(delta(m+1)) < tol )                   % If the tolerance has been met,\n",
    "   x = X(:,end);                                  % Set the solution to the last estimate\n",
    "   return                                         % and exit the function\n",
    "  end\n",
    "  \n",
    "  d(:,m+1) = -r(:,m+1) + (delta(m+1)/delta(m))*d(:,m); % Calculate search direction d\n",
    "  \n",
    " end\n",
    " \n",
    " % Stopping condition - Maximum # Iterations: Report if maximum is exceeded\n",
    " \n",
    " if (sqrt(delta(m+1)) >= tol)                         % If tolerance not yet met,\n",
    "  fprintf('Maximum number of iterations exceeded\\n'); % print error message\n",
    "  x = X(:,end);                                       % Set the solution to the last estimate\n",
    "  return                                              % and exit the function\n",
    " end\n",
    " \n",
    " fprintf('Unforeseen error\\n');                        % In case of unforeseen error\n",
    " \n",
    "end"
   ]
  },
  {
   "cell_type": "markdown",
   "metadata": {},
   "source": [
    "## Demonstration of Function Use"
   ]
  },
  {
   "cell_type": "markdown",
   "metadata": {},
   "source": [
    "The function defined above is applied to solve the symmetric positive-definite system of equations $Ax=b$ where\n",
    "\n",
    "$A= \\begin{bmatrix}\n",
    "  6 & 0 & 1 & 2 \\\\\n",
    "  0 & 7 & 3 & 4 \\\\\n",
    "  1 & 3 & 8 & 5 \\\\\n",
    "  2 & 4 & 5 & 9\n",
    " \\end{bmatrix}$\n",
    " \n",
    "$x= \\begin{bmatrix}\n",
    "  x_{1} \\\\\n",
    "  x_{2} \\\\\n",
    "  x_{3} \\\\\n",
    "  x_{4}\n",
    " \\end{bmatrix}$\n",
    "\n",
    "$b= \\begin{bmatrix}\n",
    "  17 \\\\\n",
    "  39 \\\\\n",
    "  51 \\\\\n",
    "  61\n",
    " \\end{bmatrix}\n",
    "$"
   ]
  },
  {
   "cell_type": "code",
   "execution_count": 10,
   "metadata": {},
   "outputs": [
    {
     "name": "stdout",
     "output_type": "stream",
     "text": [
      "x =\r\n",
      "\r\n",
      "   1.0000\r\n",
      "   2.0000\r\n",
      "   3.0000\r\n",
      "   4.0000\r\n",
      "\r\n"
     ]
    }
   ],
   "source": [
    "% Defining matrix A of coefficients\n",
    "A = [6 0 1 2;\n",
    "     0 7 3 4;\n",
    "     1 3 8 5;\n",
    "     2 4 5 9];\n",
    "\n",
    "% Defining vector b\n",
    "b = [17;\n",
    "     39;\n",
    "     51;\n",
    "     61];\n",
    "\n",
    "% Defining tolerance tol\n",
    "tol = 1e-6;\n",
    "\n",
    "% Defining maximum number of iterations maxiter\n",
    "maxiter = 1000;\n",
    "\n",
    "% Defining initial solution estimate xo\n",
    "xo = [ 0  ; ...\n",
    "       0  ; ...\n",
    "       0  ; ...\n",
    "       0  ];\n",
    "\n",
    "% Applying function conj_grad to find solution x\n",
    "x = conj_grad(A,b,tol,maxiter,xo)"
   ]
  },
  {
   "cell_type": "markdown",
   "metadata": {},
   "source": [
    "As shown, the solution was found to be\n",
    "\n",
    "$\n",
    " \\begin{bmatrix}\n",
    "  x_{1} \\\\\n",
    "  x_{2} \\\\\n",
    "  x_{3} \\\\\n",
    "  x_{4}\n",
    " \\end{bmatrix}\n",
    " {\\approx}\n",
    " \\begin{bmatrix}\n",
    "  1 \\\\\n",
    "  2 \\\\\n",
    "  3 \\\\\n",
    "  4\n",
    " \\end{bmatrix}\n",
    " $\n",
    " \n",
    " which may be verified by substitution."
   ]
  }
 ],
 "metadata": {
  "kernelspec": {
   "display_name": "Octave",
   "language": "octave",
   "name": "octave"
  },
  "language_info": {
   "file_extension": ".m",
   "help_links": [
    {
     "text": "GNU Octave",
     "url": "https://www.gnu.org/software/octave/support.html"
    },
    {
     "text": "Octave Kernel",
     "url": "https://github.com/Calysto/octave_kernel"
    },
    {
     "text": "MetaKernel Magics",
     "url": "https://metakernel.readthedocs.io/en/latest/source/README.html"
    }
   ],
   "mimetype": "text/x-octave",
   "name": "octave",
   "version": "5.2.0"
  }
 },
 "nbformat": 4,
 "nbformat_minor": 4
}
